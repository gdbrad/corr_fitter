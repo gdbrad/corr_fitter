{
 "cells": [
  {
   "cell_type": "code",
   "execution_count": 1,
   "metadata": {},
   "outputs": [],
   "source": [
    "import matplotlib.pyplot as plt\n",
    "import numpy as np\n",
    "import gvar as gv\n",
    "import pprint"
   ]
  },
  {
   "cell_type": "code",
   "execution_count": 2,
   "metadata": {},
   "outputs": [],
   "source": [
    "import re\n",
    "\n",
    "\n",
    "def parse_data(input_data):\n",
    "    data = {}\n",
    "\n",
    "    # Define the order of the baryons\n",
    "    baryon_order = [\"N_E0\", \"Xi_EO\", \"Sigma_E0\",\n",
    "                    \"Lambda_E0\", \"Xi*_E0\", \"Sigma*_E0\"]\n",
    "\n",
    "    # Define a mapping from your original baryon names to the new ones\n",
    "    baryon_mapping = {'lambda_z': 'Lambda_E0',\n",
    "                      'proton': 'N_E0',\n",
    "                      'sigma_p': 'Sigma_E0',\n",
    "                      'sigma_star_p': 'Sigma*_E0',\n",
    "                      'xi_star_z': 'Xi*_E0',\n",
    "                      'xi_z': 'Xi_EO'}\n",
    "\n",
    "    for key, value in input_data.items():\n",
    "        ensemble_name, baryon = key\n",
    "        number, uncertainty = gv.mean(value), gv.sdev(value)*10000\n",
    "\n",
    "        # ensemble_name = ens_map.get(ensemble_name,ensemble_name)\n",
    "\n",
    "        if ensemble_name not in data:\n",
    "            data[ensemble_name] = {}\n",
    "\n",
    "        # Map the original baryon name to the new one\n",
    "        new_baryon_name = baryon_mapping[baryon]\n",
    "        data[ensemble_name][new_baryon_name] = (number, uncertainty)\n",
    "        \n",
    "    for ensemble_name in data:\n",
    "        data[ensemble_name] = {baryon: data[ensemble_name].get(\n",
    "            baryon, (None, None)) for baryon in baryon_order}\n",
    "\n",
    "\n",
    "    return data\n"
   ]
  },
  {
   "cell_type": "code",
   "execution_count": 11,
   "metadata": {},
   "outputs": [
    {
     "name": "stdout",
     "output_type": "stream",
     "text": [
      "22.0\n"
     ]
    }
   ],
   "source": [
    "nolan = {}\n",
    "print(0.0022 * 10000)\n",
    "nolan = gv.load('avg_E0.p')\n",
    "nolan_data = parse_data(nolan)\n"
   ]
  },
  {
   "cell_type": "code",
   "execution_count": 10,
   "metadata": {},
   "outputs": [
    {
     "data": {
      "text/plain": [
       "dict_keys(['a06m220L', 'a06m310L', 'a09m135', 'a09m220_o', 'a09m260', 'a09m310_o', 'a09m350', 'a09m400', 'a12m130', 'a12m180L', 'a12m220L', 'a12m220S', 'a12m220_ms', 'a12m220_o', 'a12m260', 'a12m310', 'a12m310L', 'a12m310XL', 'a12m350', 'a12m400', 'a15m130', 'a15m135XL', 'a15m220', 'a15m260', 'a15m310', 'a15m310L_o', 'a15m350', 'a15m400'])"
      ]
     },
     "execution_count": 10,
     "metadata": {},
     "output_type": "execute_result"
    }
   ],
   "source": [
    "import re  \n",
    "import pprint\n",
    "\n",
    "def parse_latex_table(file_name):\n",
    "    with open(file_name, \"r\") as f:\n",
    "        content = f.read()\n",
    "\n",
    "    # tables = content.split(\"\\n\\n\")\n",
    "    tables = re.split(r'\\\\end{tabular}', content)[:-1]\n",
    "\n",
    "    data = {}\n",
    "    for table in tables:\n",
    "        lines = table.strip().split(\"\\n\")\n",
    "        if len(lines) < 4:  # If there are not enough lines, skip this table\n",
    "            continue\n",
    "        ensemble = lines[2].split(\"&\")[0].strip().replace('$_','_').rstrip('$')\n",
    "        data[ensemble] = {}\n",
    "\n",
    "        for line in lines[3:-1]:  # Skip the first two lines (headers) and the last line (end of the table)\n",
    "            cols = line.split(\"&\")\n",
    "\n",
    "            person = cols[0].strip()\n",
    "            results = [tuple(map(float, re.findall(r\"([\\d.]+)\", item))) for item in cols[1:]]\n",
    "            data[ensemble][person] = dict(zip([\"N_E0\", \"Xi_EO\", \"Sigma_E0\", \"Lambda_E0\", \"Xi*_E0\", \"Delta_E0\", \"Sigma*_E0\"], results))\n",
    "\n",
    "    return data\n",
    "\n",
    "file_name = \"tables.txt\"\n",
    "baryon_order = [\"N_E0\", \"Xi_EO\", \"Sigma_E0\",\n",
    "                \"Lambda_E0\", \"Xi*_E0\", \"Delta_E0\", \"Sigma*_E0\"]\n",
    "data = parse_latex_table(file_name)\n",
    "for ensemble_name in data:\n",
    "    data[ensemble_name]['nolan'] = nolan_data.get(ensemble_name, {baryon: (None, None) for baryon in baryon_order})\n",
    "# pprint.pprint(data)\n",
    "data.keys()\n",
    "\n"
   ]
  },
  {
   "cell_type": "code",
   "execution_count": 9,
   "metadata": {},
   "outputs": [],
   "source": [
    "\n",
    "import numpy as np\n",
    "import matplotlib.pyplot as plt\n",
    "from matplotlib.backends.backend_pdf import PdfPages\n",
    "\n",
    "def plot_ensemble(ensemble_data, ensemble_name,pdf):\n",
    "    fig, ax = plt.subplots(figsize=(12, 8))\n",
    "\n",
    "    offset = 0.05\n",
    "    all_baryon_keys = set()\n",
    "\n",
    "    for i, (person, results) in enumerate(ensemble_data.items()):\n",
    "        if person == '\\\\hline':\n",
    "            continue\n",
    "        # valid_results = {k: v for k, v in results.items() if len(v) > 0}\n",
    "        valid_results = {k: v for k, v in results.items() if v and len(v)>1 and v[0] is not None}\n",
    "        # print(f\"Valid results for {person}: {valid_results}\")\n",
    "        # valid_results = {k: v for k, v in results.items() if v and len(v) > 1 }\n",
    "\n",
    "        x = np.arange(len(valid_results))\n",
    "        y = [result[0] for result in valid_results.values()]\n",
    "        # yerr = [result[1] *0.0001 if len(result) > 1 else 0 for result in valid_results.values()]\n",
    "        yerr = [result[1] * 0.0001 if result[1] is not None else 0 for result in valid_results.values()]\n",
    "\n",
    "        ax.errorbar(x + i * offset, y, yerr=yerr, fmt=\"o\", capsize=5, label=person)\n",
    "\n",
    "        all_baryon_keys.update(valid_results.keys())\n",
    "\n",
    "    all_keys = sorted(list(all_baryon_keys))  # Convert to a list and sort it\n",
    "    ax.set_xticks(np.arange(len(all_keys)) +\n",
    "                  (len(ensemble_data) - 1) * offset / 2)\n",
    "    ax.set_xticklabels(all_keys)\n",
    "    ax.set_xlim(-0.5, len(all_keys) - 0.5 + (len(ensemble_data) - 1) * offset)\n",
    "\n",
    "    ax.legend()\n",
    "    ax.set_xlabel(\"Baryon\")\n",
    "    ax.set_ylabel(\"Fit Result\")\n",
    "    ax.set_title(f\"Fit Results for {ensemble_name}\")\n",
    "\n",
    "    pdf.savefig(fig)\n",
    "    plt.close(fig)\n",
    "\n",
    "with PdfPages(\"output_plots.pdf\") as pdf:\n",
    "    for ensemble_name, ensemble_data in data.items():\n",
    "        plot_ensemble(ensemble_data, ensemble_name, pdf)\n",
    "\n",
    "\n"
   ]
  }
 ],
 "metadata": {
  "kernelspec": {
   "display_name": "Python 3.11.2 64-bit",
   "language": "python",
   "name": "python3"
  },
  "language_info": {
   "codemirror_mode": {
    "name": "ipython",
    "version": 3
   },
   "file_extension": ".py",
   "mimetype": "text/x-python",
   "name": "python",
   "nbconvert_exporter": "python",
   "pygments_lexer": "ipython3",
   "version": "3.11.2"
  },
  "orig_nbformat": 4,
  "vscode": {
   "interpreter": {
    "hash": "1a1af0ee75eeea9e2e1ee996c87e7a2b11a0bebd85af04bb136d915cefc0abce"
   }
  }
 },
 "nbformat": 4,
 "nbformat_minor": 2
}
